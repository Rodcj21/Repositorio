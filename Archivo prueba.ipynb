{
 "cells": [
  {
   "cell_type": "markdown",
   "id": "a2e2bc9e",
   "metadata": {},
   "source": [
    "Prueba"
   ]
  },
  {
   "cell_type": "code",
   "execution_count": 1,
   "id": "96e7c740",
   "metadata": {},
   "outputs": [],
   "source": [
    "def f(x,y):\n",
    "    res = x**y-2*y-2*x\n",
    "    return(res)"
   ]
  },
  {
   "cell_type": "code",
   "execution_count": 2,
   "id": "bf905652",
   "metadata": {},
   "outputs": [
    {
     "name": "stdout",
     "output_type": "stream",
     "text": [
      "15603\n"
     ]
    }
   ],
   "source": [
    "print(f(5,6))"
   ]
  },
  {
   "cell_type": "code",
   "execution_count": null,
   "id": "b80997be",
   "metadata": {},
   "outputs": [],
   "source": []
  }
 ],
 "metadata": {
  "kernelspec": {
   "display_name": "Python 3 (ipykernel)",
   "language": "python",
   "name": "python3"
  },
  "language_info": {
   "codemirror_mode": {
    "name": "ipython",
    "version": 3
   },
   "file_extension": ".py",
   "mimetype": "text/x-python",
   "name": "python",
   "nbconvert_exporter": "python",
   "pygments_lexer": "ipython3",
   "version": "3.9.7"
  }
 },
 "nbformat": 4,
 "nbformat_minor": 5
}
